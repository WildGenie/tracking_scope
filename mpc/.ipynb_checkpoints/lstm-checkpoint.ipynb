{
 "cells": [
  {
   "cell_type": "code",
   "execution_count": 1,
   "metadata": {},
   "outputs": [],
   "source": [
    "import tensorflow as tf\n",
    "from scipy.io import loadmat\n",
    "import numpy as np\n",
    "import matplotlib.pyplot as plt\n",
    "import datetime\n"
   ]
  },
  {
   "cell_type": "code",
   "execution_count": 2,
   "metadata": {},
   "outputs": [
    {
     "name": "stdout",
     "output_type": "stream",
     "text": [
      "(9760224,)\n",
      "(9760224,)\n",
      "(9760224,)\n"
     ]
    }
   ],
   "source": [
    "mat = loadmat(\"f1data.mat\")\n",
    "\n",
    "x    = mat['x'][:,0]\n",
    "y    = mat['y'][:,0]\n",
    "tail = mat['tail'][:-1,0]\n",
    "\n",
    "input_data = tail\n",
    "output_data = np.stack((x,y)).T\n"
   ]
  },
  {
   "cell_type": "code",
   "execution_count": 4,
   "metadata": {},
   "outputs": [],
   "source": [
    "WINDOW_SIZE = 500\n",
    "OUTPUT_SIZE = 50\n",
    "BATCH_SIZE  = 500"
   ]
  },
  {
   "cell_type": "markdown",
   "metadata": {},
   "source": [
    "# All to All"
   ]
  },
  {
   "cell_type": "code",
   "execution_count": null,
   "metadata": {},
   "outputs": [],
   "source": [
    "class CustomGenerator(tf.keras.utils.Sequence):\n",
    "    def __init__(self, data , input_window_size , output_window_size,batch_size):\n",
    "        self.batch_size = batch_size\n",
    "        self.data = data\n",
    "        self.window_size = input_window_size\n",
    "        self.output_size = output_window_size\n",
    "      \n",
    "    def __len__(self):\n",
    "        return 100\n",
    "\n",
    "    def __getitem__(self, index):\n",
    "        # [batch, timesteps, feature]\n",
    "        x = np.zeros((self.batch_size,self.window_size,self.data.shape[1]),dtype=np.float32)\n",
    "        y = np.zeros((self.batch_size,self.output_size,self.data.shape[1]),dtype=np.float32)\n",
    "\n",
    "        for i in range(index,index+self.batch_size):\n",
    "            in_start  = i\n",
    "            in_stop   = in_start + self.window_size\n",
    "            out_start = in_stop\n",
    "            out_stop  = out_start + self.output_size\n",
    "            \n",
    "            \n",
    "            print(in_start,in_stop,out_start,out_stop)\n",
    "\n",
    "            x[i-index,:,:] = self.data[in_start:in_stop]\n",
    "            y[i-index,:,:] = self.data[out_start:out_stop]\n",
    "\n",
    "        return x,y\n",
    "\n",
    "#     def on_epoch_end(self):\n",
    "#         self.index = np.arange(len(self.indices))\n",
    "#         if self.shuffle == True:\n",
    "#             np.random.shuffle(self.index)\n"
   ]
  },
  {
   "cell_type": "code",
   "execution_count": null,
   "metadata": {},
   "outputs": [],
   "source": [
    "def CreateLSTMModel(window_size,output_size,features):\n",
    "    model = tf.keras.models.Sequential([\n",
    "    tf.keras.layers.Input(shape=(window_size,features)),\n",
    "    tf.keras.layers.LSTM(15, return_sequences=False),\n",
    "    tf.keras.layers.Dense(output_size*features,kernel_initializer=tf.initializers.zeros),\n",
    "    tf.keras.layers.Reshape([output_size, features])\n",
    "    ])\n",
    "\n",
    "    model.compile(loss=tf.losses.MeanSquaredError(),\n",
    "                    optimizer=tf.optimizers.Adam(),\n",
    "                    metrics=[tf.metrics.MeanAbsoluteError()])\n",
    "\n",
    "    model.summary()\n",
    "\n",
    "    return model\n"
   ]
  },
  {
   "cell_type": "code",
   "execution_count": null,
   "metadata": {},
   "outputs": [],
   "source": [
    "model = CreateLSTMModel( window_size = WINDOW_SIZE,\n",
    "                         output_size = OUTPUT_SIZE,\n",
    "                         features = data.shape[1])\n",
    "\n",
    "\n",
    "gen =CustomGenerator(data,WINDOW_SIZE,OUTPUT_SIZE,BATCH_SIZE)\n",
    "\n",
    "\n",
    "model.fit(gen,epochs= 500,verbose=2)"
   ]
  },
  {
   "cell_type": "markdown",
   "metadata": {},
   "source": [
    "# Tail To Pos"
   ]
  },
  {
   "cell_type": "code",
   "execution_count": 5,
   "metadata": {},
   "outputs": [],
   "source": [
    "class TailToPosGenerator(tf.keras.utils.Sequence):\n",
    "    EPOCH_LENGHT = 1000\n",
    "    def __init__(self, input_data,output_data , input_window_size , output_window_size,batch_size):\n",
    "        self.batch_size = batch_size\n",
    "        self.input_data = input_data\n",
    "        self.output_data = output_data\n",
    "        self.window_size = input_window_size\n",
    "        self.output_size = output_window_size\n",
    "        self.on_epoch_end()\n",
    "        \n",
    "        self.x = np.zeros((self.batch_size,self.window_size,1),dtype=np.float32)\n",
    "        self.y = np.zeros((self.batch_size,self.output_size,2),dtype=np.float32)\n",
    "      \n",
    "    def __len__(self):\n",
    "        return EPOCH_LENGHT\n",
    "\n",
    "    def __getitem__(self, index):\n",
    "        # [batch, timesteps, feature]\n",
    "\n",
    "        idx = self.index[index]\n",
    "\n",
    "        for i in range(idx,idx+self.batch_size):\n",
    "            in_start  = i\n",
    "            in_stop   = in_start + self.window_size\n",
    "            out_start = in_stop\n",
    "            out_stop  = out_start + self.output_size\n",
    "\n",
    "            self.x[i-idx,:,0] = self.input_data[in_start:in_stop]\n",
    "            self.y[i-idx,:,:] = self.output_data[out_start:out_stop,:]\n",
    "            \n",
    "        return self.x, self.y\n",
    "\n",
    "    def on_epoch_end(self):\n",
    "        self.index = idx = np.random.randint(low=0,high=self.input_data.shape[0] - (self.batch_size + self.window_size + self.output_size)  , size=EPOCH_LENGHT)\n"
   ]
  },
  {
   "cell_type": "code",
   "execution_count": 1,
   "metadata": {},
   "outputs": [],
   "source": [
    "def TailToPosLSTMModel(window_size,output_size):\n",
    "    model = tf.keras.models.Sequential([\n",
    "    tf.keras.layers.Input(shape=(window_size,1),name='inpt'),\n",
    "    tf.keras.layers.LSTM(64, return_sequences=False,name='lstm'),\n",
    "    tf.keras.layers.Dense(output_size*2,kernel_initializer=tf.initializers.zeros,name='dense'),\n",
    "    tf.keras.layers.Reshape([output_size, 2],name='reshape')\n",
    "    ],name='full_net')\n",
    "\n",
    "    model.compile(\n",
    "                #loss=EuclideanDistanceLoss,\n",
    "                loss=tf.losses.MeanSquaredError(),\n",
    "                optimizer=tf.optimizers.Adam(),\n",
    "                metrics=[tf.metrics.MeanAbsoluteError()])\n",
    "\n",
    "    model.summary()\n",
    "\n",
    "    return model"
   ]
  },
  {
   "cell_type": "code",
   "execution_count": 2,
   "metadata": {},
   "outputs": [],
   "source": [
    "def EuclideanDistanceLoss(y_true, y_pred):\n",
    "    cumsum_y_true = tf.math.cumsum(y_true, axis=1)\n",
    "    cumsum_y_pred = tf.math.cumsum(y_pred, axis=1)\n",
    "\n",
    "    return tf.norm(cumsum_y_true-cumsum_y_pred, ord='euclidean')"
   ]
  },
  {
   "cell_type": "code",
   "execution_count": 5,
   "metadata": {},
   "outputs": [
    {
     "ename": "NameError",
     "evalue": "name 'tf' is not defined",
     "output_type": "error",
     "traceback": [
      "\u001b[1;31m---------------------------------------------------------------------------\u001b[0m",
      "\u001b[1;31mNameError\u001b[0m                                 Traceback (most recent call last)",
      "\u001b[1;32m<ipython-input-5-4a7c610f4350>\u001b[0m in \u001b[0;36m<module>\u001b[1;34m\u001b[0m\n\u001b[1;32m----> 1\u001b[1;33m \u001b[0mmodel\u001b[0m \u001b[1;33m=\u001b[0m \u001b[0mTailToPosLSTMModel\u001b[0m\u001b[1;33m(\u001b[0m \u001b[0mwindow_size\u001b[0m \u001b[1;33m=\u001b[0m \u001b[0mWINDOW_SIZE\u001b[0m\u001b[1;33m,\u001b[0m \u001b[0moutput_size\u001b[0m \u001b[1;33m=\u001b[0m \u001b[0mOUTPUT_SIZE\u001b[0m\u001b[1;33m)\u001b[0m\u001b[1;33m\u001b[0m\u001b[1;33m\u001b[0m\u001b[0m\n\u001b[0m\u001b[0;32m      2\u001b[0m \u001b[1;33m\u001b[0m\u001b[0m\n\u001b[0;32m      3\u001b[0m \u001b[0mgen\u001b[0m \u001b[1;33m=\u001b[0m\u001b[0mTailToPosGenerator\u001b[0m\u001b[1;33m(\u001b[0m\u001b[0minput_data\u001b[0m\u001b[1;33m,\u001b[0m\u001b[0moutput_data\u001b[0m\u001b[1;33m,\u001b[0m\u001b[0mWINDOW_SIZE\u001b[0m\u001b[1;33m,\u001b[0m\u001b[0mOUTPUT_SIZE\u001b[0m\u001b[1;33m,\u001b[0m\u001b[0mBATCH_SIZE\u001b[0m\u001b[1;33m)\u001b[0m\u001b[1;33m\u001b[0m\u001b[1;33m\u001b[0m\u001b[0m\n\u001b[0;32m      4\u001b[0m \u001b[1;33m\u001b[0m\u001b[0m\n\u001b[0;32m      5\u001b[0m \u001b[0mmodel\u001b[0m\u001b[1;33m.\u001b[0m\u001b[0mfit\u001b[0m\u001b[1;33m(\u001b[0m\u001b[0mgen\u001b[0m\u001b[1;33m,\u001b[0m\u001b[0mepochs\u001b[0m\u001b[1;33m=\u001b[0m \u001b[1;36m5000\u001b[0m\u001b[1;33m,\u001b[0m\u001b[0mverbose\u001b[0m\u001b[1;33m=\u001b[0m\u001b[1;36m1\u001b[0m\u001b[1;33m)\u001b[0m\u001b[1;33m\u001b[0m\u001b[1;33m\u001b[0m\u001b[0m\n",
      "\u001b[1;32m<ipython-input-1-c11e08855851>\u001b[0m in \u001b[0;36mTailToPosLSTMModel\u001b[1;34m(window_size, output_size)\u001b[0m\n\u001b[0;32m      1\u001b[0m \u001b[1;32mdef\u001b[0m \u001b[0mTailToPosLSTMModel\u001b[0m\u001b[1;33m(\u001b[0m\u001b[0mwindow_size\u001b[0m\u001b[1;33m,\u001b[0m\u001b[0moutput_size\u001b[0m\u001b[1;33m)\u001b[0m\u001b[1;33m:\u001b[0m\u001b[1;33m\u001b[0m\u001b[1;33m\u001b[0m\u001b[0m\n\u001b[1;32m----> 2\u001b[1;33m     model = tf.keras.models.Sequential([\n\u001b[0m\u001b[0;32m      3\u001b[0m     \u001b[0mtf\u001b[0m\u001b[1;33m.\u001b[0m\u001b[0mkeras\u001b[0m\u001b[1;33m.\u001b[0m\u001b[0mlayers\u001b[0m\u001b[1;33m.\u001b[0m\u001b[0mInput\u001b[0m\u001b[1;33m(\u001b[0m\u001b[0mshape\u001b[0m\u001b[1;33m=\u001b[0m\u001b[1;33m(\u001b[0m\u001b[0mwindow_size\u001b[0m\u001b[1;33m,\u001b[0m\u001b[1;36m1\u001b[0m\u001b[1;33m)\u001b[0m\u001b[1;33m,\u001b[0m\u001b[0mname\u001b[0m\u001b[1;33m=\u001b[0m\u001b[1;34m'inpt'\u001b[0m\u001b[1;33m)\u001b[0m\u001b[1;33m,\u001b[0m\u001b[1;33m\u001b[0m\u001b[1;33m\u001b[0m\u001b[0m\n\u001b[0;32m      4\u001b[0m     \u001b[0mtf\u001b[0m\u001b[1;33m.\u001b[0m\u001b[0mkeras\u001b[0m\u001b[1;33m.\u001b[0m\u001b[0mlayers\u001b[0m\u001b[1;33m.\u001b[0m\u001b[0mLSTM\u001b[0m\u001b[1;33m(\u001b[0m\u001b[1;36m64\u001b[0m\u001b[1;33m,\u001b[0m \u001b[0mreturn_sequences\u001b[0m\u001b[1;33m=\u001b[0m\u001b[1;32mFalse\u001b[0m\u001b[1;33m,\u001b[0m\u001b[0mname\u001b[0m\u001b[1;33m=\u001b[0m\u001b[1;34m'lstm'\u001b[0m\u001b[1;33m)\u001b[0m\u001b[1;33m,\u001b[0m\u001b[1;33m\u001b[0m\u001b[1;33m\u001b[0m\u001b[0m\n\u001b[0;32m      5\u001b[0m     \u001b[0mtf\u001b[0m\u001b[1;33m.\u001b[0m\u001b[0mkeras\u001b[0m\u001b[1;33m.\u001b[0m\u001b[0mlayers\u001b[0m\u001b[1;33m.\u001b[0m\u001b[0mDense\u001b[0m\u001b[1;33m(\u001b[0m\u001b[0moutput_size\u001b[0m\u001b[1;33m*\u001b[0m\u001b[1;36m2\u001b[0m\u001b[1;33m,\u001b[0m\u001b[0mkernel_initializer\u001b[0m\u001b[1;33m=\u001b[0m\u001b[0mtf\u001b[0m\u001b[1;33m.\u001b[0m\u001b[0minitializers\u001b[0m\u001b[1;33m.\u001b[0m\u001b[0mzeros\u001b[0m\u001b[1;33m,\u001b[0m\u001b[0mname\u001b[0m\u001b[1;33m=\u001b[0m\u001b[1;34m'dense'\u001b[0m\u001b[1;33m)\u001b[0m\u001b[1;33m,\u001b[0m\u001b[1;33m\u001b[0m\u001b[1;33m\u001b[0m\u001b[0m\n",
      "\u001b[1;31mNameError\u001b[0m: name 'tf' is not defined"
     ]
    }
   ],
   "source": [
    "model = TailToPosLSTMModel( window_size = WINDOW_SIZE, output_size = OUTPUT_SIZE)\n",
    "\n",
    "gen =TailToPosGenerator(input_data,output_data,WINDOW_SIZE,OUTPUT_SIZE,BATCH_SIZE)\n",
    "\n",
    "model.fit(gen,epochs= 5000,verbose=1)"
   ]
  },
  {
   "cell_type": "markdown",
   "metadata": {},
   "source": [
    "# Plots"
   ]
  },
  {
   "cell_type": "code",
   "execution_count": null,
   "metadata": {},
   "outputs": [],
   "source": [
    "t = np.zeros((1,WINDOW_SIZE,3),dtype=np.float32)\n",
    "ty = np.zeros((1,OUTPUT_SIZE,3),dtype=np.float32)\n",
    "\n",
    "start  = 134\n",
    "t[0,:,:] = data[start:start+WINDOW_SIZE]\n",
    "ty[0,:,:] = data[start+WINDOW_SIZE:start+WINDOW_SIZE+OUTPUT_SIZE]\n",
    "\n",
    "y  = model(t)\n",
    "\n",
    "print(t.shape,y.shape)"
   ]
  },
  {
   "cell_type": "code",
   "execution_count": null,
   "metadata": {},
   "outputs": [],
   "source": [
    "x = np.asarray(range(window_size))\n",
    "xx = np.asarray(range(window_size,window_size + output_size))\n",
    "\n",
    "\n",
    "N = data.shape[1]\n",
    "for i in range(N):\n",
    "    plt.figure(figsize=(30,2))\n",
    "    plt.suptitle(data.columns[i], fontsize=20)\n",
    "    plt.plot(x,t[0,:,i])\n",
    "    plt.plot(xx,y[0,:,i],color='green')\n",
    "    plt.plot(xx,ty[0,:,i],color='red')\n",
    "plt.show()"
   ]
  },
  {
   "cell_type": "code",
   "execution_count": null,
   "metadata": {},
   "outputs": [],
   "source": [
    "x = np.asarray(range(WINDOW_SIZE))\n",
    "xx = np.asarray(range(WINDOW_SIZE,WINDOW_SIZE + OUTPUT_SIZE))\n",
    "\n",
    "\n",
    "for i in range(2):\n",
    "    plt.figure(figsize=(30,2))\n",
    "    plt.plot(x,  t[0,:,i])\n",
    "    plt.plot(xx,ty[0,:,i],color='green')\n",
    "    plt.plot(xx, y[0,:,i],color='red')\n",
    "    plt.show()\n",
    "\n",
    "\n"
   ]
  },
  {
   "cell_type": "code",
   "execution_count": null,
   "metadata": {},
   "outputs": [],
   "source": [
    "prevx = np.cumsum(np.squeeze(t[0,:,0]))\n",
    "prevy = np.cumsum(np.squeeze(t[0,:,1]))\n",
    "\n",
    "trux = prevx[-1] + np.cumsum(np.squeeze(ty[0,:,0]))\n",
    "truy = prevy[-1] + np.cumsum(np.squeeze(ty[0,:,1]))\n",
    "\n",
    "predx = prevx[-1] + np.cumsum(np.squeeze())\n",
    "predy = prevy[-1] + np.cumsum(np.squeeze(y[0,:,1]))\n",
    "\n",
    "\n",
    "plt.plot(prevx,prevy,color='blue')\n",
    "plt.plot(trux,truy,color='green')\n",
    "# plt.plot(predx,predy,color='red')\n",
    "\n",
    "\n",
    "plt.show()"
   ]
  },
  {
   "cell_type": "code",
   "execution_count": 17,
   "metadata": {},
   "outputs": [
    {
     "name": "stdout",
     "output_type": "stream",
     "text": [
      "[[[ 0.05200195 -0.02529907]\n",
      "  [ 0.02697754 -0.04050446]\n",
      "  [-0.05187988  0.02540588]\n",
      "  [ 0.05187988 -0.02540588]\n",
      "  [ 0.          0.        ]]\n",
      "\n",
      " [[ 0.02697754 -0.04050446]\n",
      "  [-0.05187988  0.02540588]\n",
      "  [ 0.05187988 -0.02540588]\n",
      "  [ 0.          0.        ]\n",
      "  [ 0.          0.        ]]\n",
      "\n",
      " [[-0.05187988  0.02540588]\n",
      "  [ 0.05187988 -0.02540588]\n",
      "  [ 0.          0.        ]\n",
      "  [ 0.          0.        ]\n",
      "  [ 0.04351807 -0.01239777]]]\n",
      "tf.Tensor(\n",
      "[[[ 0.05200195 -0.02529907]\n",
      "  [ 0.07897949 -0.06580353]\n",
      "  [ 0.02709961 -0.04039764]\n",
      "  [ 0.07897949 -0.06580353]\n",
      "  [ 0.07897949 -0.06580353]]\n",
      "\n",
      " [[ 0.02697754 -0.04050446]\n",
      "  [-0.02490234 -0.01509857]\n",
      "  [ 0.02697754 -0.04050446]\n",
      "  [ 0.02697754 -0.04050446]\n",
      "  [ 0.02697754 -0.04050446]]\n",
      "\n",
      " [[-0.05187988  0.02540588]\n",
      "  [ 0.          0.        ]\n",
      "  [ 0.          0.        ]\n",
      "  [ 0.          0.        ]\n",
      "  [ 0.04351807 -0.01239777]]], shape=(3, 5, 2), dtype=float32)\n",
      "tf.Tensor(0.6945555, shape=(), dtype=float32)\n"
     ]
    }
   ],
   "source": [
    "gen =TailToPosGenerator(input_data,output_data,10,5,3)\n",
    "\n",
    "x,y = gen[0]\n",
    "\n",
    "\n",
    "# print('x',x,x.shape)\n",
    "# print('y',y,y.shape)\n",
    "\n",
    "\n",
    "\n",
    "\n",
    "print(y)\n",
    "print(cm)\n",
    "\n",
    "\n",
    "l2_norm = tf.norm(y-y*5, ord='euclidean')\n",
    "\n",
    "print(l2_norm)"
   ]
  },
  {
   "cell_type": "code",
   "execution_count": null,
   "metadata": {},
   "outputs": [],
   "source": []
  }
 ],
 "metadata": {
  "kernelspec": {
   "display_name": "Python 3",
   "language": "python",
   "name": "python3"
  },
  "language_info": {
   "codemirror_mode": {
    "name": "ipython",
    "version": 3
   },
   "file_extension": ".py",
   "mimetype": "text/x-python",
   "name": "python",
   "nbconvert_exporter": "python",
   "pygments_lexer": "ipython3",
   "version": "3.8.5"
  }
 },
 "nbformat": 4,
 "nbformat_minor": 4
}
