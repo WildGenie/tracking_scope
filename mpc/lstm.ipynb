{
 "cells": [
  {
   "cell_type": "code",
   "execution_count": 1,
   "metadata": {},
   "outputs": [],
   "source": [
    "import tensorflow as tf\n",
    "from scipy.io import loadmat\n",
    "import numpy as np\n",
    "import matplotlib.pyplot as plt\n",
    "import pandas as pd"
   ]
  },
  {
   "cell_type": "code",
   "execution_count": 2,
   "metadata": {},
   "outputs": [
    {
     "name": "stdout",
     "output_type": "stream",
     "text": [
      "(9760224,)\n",
      "(9760224,)\n",
      "(9760224,)\n"
     ]
    }
   ],
   "source": [
    "\n",
    "mat = loadmat(\"C:/Users/alexa/Downloads/f1data.mat\")\n",
    "\n",
    "r = range(0,20000,1)\n",
    "\n",
    "# x    = mat['x'][r][:,0]\n",
    "# y    = mat['y'][r][:,0]\n",
    "# tail = mat['tail'][r][:,0]\n",
    "\n",
    "\n",
    "x    = mat['x'][:,0]\n",
    "y    = mat['y'][:,0]\n",
    "tail = mat['tail'][:-1,0]\n",
    "\n",
    "\n",
    "# print(mat)\n",
    "print(x.shape)\n",
    "print(y.shape)\n",
    "print(tail.shape)\n",
    "\n",
    "# plt.figure(figsize=(30,5))\n",
    "# plt.plot(tail)\n",
    "# plt.show()\n",
    "\n"
   ]
  },
  {
   "cell_type": "code",
   "execution_count": 3,
   "metadata": {},
   "outputs": [],
   "source": [
    "# time = np.arange(0, 2000, 0.1);\n",
    "# data = pd.DataFrame({'x1': np.sin(time),'x2': np.cos(time)})\n",
    "data = pd.DataFrame({'x': x,'y': y,'tail': tail})"
   ]
  },
  {
   "cell_type": "code",
   "execution_count": 4,
   "metadata": {},
   "outputs": [],
   "source": [
    "WINDOW_SIZE = 500\n",
    "OUTPUT_SIZE = 50\n",
    "BATCH_SIZE  = 100"
   ]
  },
  {
   "cell_type": "markdown",
   "metadata": {},
   "source": [
    "# All to All"
   ]
  },
  {
   "cell_type": "code",
   "execution_count": null,
   "metadata": {},
   "outputs": [],
   "source": [
    "class CustomGenerator(tf.keras.utils.Sequence):\n",
    "    def __init__(self, data , input_window_size , output_window_size,batch_size):\n",
    "        self.batch_size = batch_size\n",
    "        self.data = data\n",
    "        self.window_size = input_window_size\n",
    "        self.output_size = output_window_size\n",
    "      \n",
    "    def __len__(self):\n",
    "        return 100\n",
    "\n",
    "    def __getitem__(self, index):\n",
    "        # [batch, timesteps, feature]\n",
    "        x = np.zeros((self.batch_size,self.window_size,self.data.shape[1]),dtype=np.float32)\n",
    "        y = np.zeros((self.batch_size,self.output_size,self.data.shape[1]),dtype=np.float32)\n",
    "\n",
    "        for i in range(index,index+self.batch_size):\n",
    "            in_start  = i\n",
    "            in_stop   = in_start + self.window_size\n",
    "            out_start = in_stop\n",
    "            out_stop  = out_start + self.output_size\n",
    "            \n",
    "            \n",
    "            print(in_start,in_stop,out_start,out_stop)\n",
    "\n",
    "            x[i-index,:,:] = self.data[in_start:in_stop]\n",
    "            y[i-index,:,:] = self.data[out_start:out_stop]\n",
    "\n",
    "        return x,y\n",
    "\n",
    "#     def on_epoch_end(self):\n",
    "#         self.index = np.arange(len(self.indices))\n",
    "#         if self.shuffle == True:\n",
    "#             np.random.shuffle(self.index)\n"
   ]
  },
  {
   "cell_type": "code",
   "execution_count": null,
   "metadata": {},
   "outputs": [],
   "source": [
    "def CreateLSTMModel(window_size,output_size,features):\n",
    "    model = tf.keras.models.Sequential([\n",
    "    tf.keras.layers.Input(shape=(window_size,features)),\n",
    "    tf.keras.layers.LSTM(15, return_sequences=False),\n",
    "    tf.keras.layers.Dense(output_size*features,kernel_initializer=tf.initializers.zeros),\n",
    "    tf.keras.layers.Reshape([output_size, features])\n",
    "    ])\n",
    "\n",
    "    model.compile(loss=tf.losses.MeanSquaredError(),\n",
    "                    optimizer=tf.optimizers.Adam(),\n",
    "                    metrics=[tf.metrics.MeanAbsoluteError()])\n",
    "\n",
    "    model.summary()\n",
    "\n",
    "    return model\n"
   ]
  },
  {
   "cell_type": "code",
   "execution_count": null,
   "metadata": {},
   "outputs": [],
   "source": [
    "model = CreateLSTMModel( window_size = WINDOW_SIZE,\n",
    "                         output_size = OUTPUT_SIZE,\n",
    "                         features = data.shape[1])\n",
    "\n",
    "\n",
    "gen =CustomGenerator(data,WINDOW_SIZE,OUTPUT_SIZE,BATCH_SIZE)\n",
    "\n",
    "\n",
    "model.fit(gen,epochs= 500,verbose=2)"
   ]
  },
  {
   "cell_type": "markdown",
   "metadata": {},
   "source": [
    "# Tail To Pos"
   ]
  },
  {
   "cell_type": "code",
   "execution_count": 5,
   "metadata": {},
   "outputs": [],
   "source": [
    "class TailToPosGenerator(tf.keras.utils.Sequence):\n",
    "    def __init__(self, data , input_window_size , output_window_size,batch_size):\n",
    "        self.batch_size = batch_size\n",
    "        self.data = data\n",
    "        self.window_size = input_window_size\n",
    "        self.output_size = output_window_size\n",
    "        self.on_epoch_end()\n",
    "        \n",
    "        self.x = np.zeros((self.batch_size,self.window_size,1),dtype=np.float32)\n",
    "        self.y = np.zeros((self.batch_size,self.output_size,2),dtype=np.float32)\n",
    "      \n",
    "    def __len__(self):\n",
    "        return 5000\n",
    "\n",
    "    def __getitem__(self, index):\n",
    "        # [batch, timesteps, feature]\n",
    "\n",
    "        idx = self.index[index]\n",
    "        \n",
    "        for i in range(idx,idx+self.batch_size):\n",
    "            in_start  = i\n",
    "            in_stop   = in_start + self.window_size\n",
    "            out_start = in_stop\n",
    "            out_stop  = out_start + self.output_size\n",
    "\n",
    "            self.x[i-idx,:,0] = self.data[\"tail\"][in_start:in_stop]\n",
    "            self.y[i-idx,:,:] = self.data[{\"x\",\"y\"}][out_start:out_stop]\n",
    "        \n",
    "\n",
    "        return self.x,self.y\n",
    "\n",
    "    def on_epoch_end(self):\n",
    "        self.index = idx = np.random.randint(low=0,high=data.shape[0] - self.batch_size , size=5000)\n"
   ]
  },
  {
   "cell_type": "code",
   "execution_count": 7,
   "metadata": {},
   "outputs": [],
   "source": [
    "def TailToPosLSTMModel(window_size,output_size):\n",
    "    model = tf.keras.models.Sequential([\n",
    "    tf.keras.layers.Input(shape=(window_size,1),name='inpt'),\n",
    "    tf.keras.layers.LSTM(32, return_sequences=False,name='lstm'),\n",
    "    tf.keras.layers.Dense(output_size*2,kernel_initializer=tf.initializers.zeros,name='dense'),\n",
    "    tf.keras.layers.Reshape([output_size, 2],name='reshape')\n",
    "    ],name='full_net')\n",
    "\n",
    "    model.compile(loss=tf.losses.MeanSquaredError(),\n",
    "                    optimizer=tf.optimizers.Adam(),\n",
    "                    metrics=[tf.metrics.MeanAbsoluteError()])\n",
    "\n",
    "    model.summary()\n",
    "\n",
    "    return model"
   ]
  },
  {
   "cell_type": "code",
   "execution_count": null,
   "metadata": {},
   "outputs": [
    {
     "name": "stdout",
     "output_type": "stream",
     "text": [
      "Model: \"full_net\"\n",
      "_________________________________________________________________\n",
      "Layer (type)                 Output Shape              Param #   \n",
      "=================================================================\n",
      "lstm (LSTM)                  (None, 32)                4352      \n",
      "_________________________________________________________________\n",
      "dense (Dense)                (None, 100)               3300      \n",
      "_________________________________________________________________\n",
      "reshape (Reshape)            (None, 50, 2)             0         \n",
      "=================================================================\n",
      "Total params: 7,652\n",
      "Trainable params: 7,652\n",
      "Non-trainable params: 0\n",
      "_________________________________________________________________\n",
      "Epoch 1/500\n",
      "2022/5000 [===========>..................] - ETA: 3:01:44 - loss: 0.0723 - mean_absolute_error: 0.1333"
     ]
    }
   ],
   "source": [
    "model = TailToPosLSTMModel( window_size = WINDOW_SIZE, output_size = OUTPUT_SIZE)\n",
    "\n",
    "gen =TailToPosGenerator(data,WINDOW_SIZE,OUTPUT_SIZE,BATCH_SIZE)\n",
    "\n",
    "model.fit(gen,epochs= 500,verbose=1)"
   ]
  },
  {
   "cell_type": "markdown",
   "metadata": {},
   "source": [
    "# Plots"
   ]
  },
  {
   "cell_type": "code",
   "execution_count": null,
   "metadata": {},
   "outputs": [],
   "source": [
    "t = np.zeros((1,WINDOW_SIZE,3),dtype=np.float32)\n",
    "ty = np.zeros((1,OUTPUT_SIZE,3),dtype=np.float32)\n",
    "\n",
    "start  = 134\n",
    "t[0,:,:] = data[start:start+WINDOW_SIZE]\n",
    "ty[0,:,:] = data[start+WINDOW_SIZE:start+WINDOW_SIZE+OUTPUT_SIZE]\n",
    "\n",
    "y  = model(t)\n",
    "\n",
    "print(t.shape,y.shape)"
   ]
  },
  {
   "cell_type": "code",
   "execution_count": null,
   "metadata": {},
   "outputs": [],
   "source": [
    "x = np.asarray(range(window_size))\n",
    "xx = np.asarray(range(window_size,window_size + output_size))\n",
    "\n",
    "\n",
    "N = data.shape[1]\n",
    "for i in range(N):\n",
    "    plt.figure(figsize=(30,2))\n",
    "    plt.suptitle(data.columns[i], fontsize=20)\n",
    "    plt.plot(x,t[0,:,i])\n",
    "    plt.plot(xx,y[0,:,i],color='green')\n",
    "    plt.plot(xx,ty[0,:,i],color='red')\n",
    "plt.show()"
   ]
  },
  {
   "cell_type": "code",
   "execution_count": null,
   "metadata": {},
   "outputs": [],
   "source": [
    "x = np.asarray(range(WINDOW_SIZE))\n",
    "xx = np.asarray(range(WINDOW_SIZE,WINDOW_SIZE + OUTPUT_SIZE))\n",
    "\n",
    "\n",
    "for i in range(2):\n",
    "    plt.figure(figsize=(30,2))\n",
    "    plt.plot(x,  t[0,:,i])\n",
    "    plt.plot(xx,ty[0,:,i],color='green')\n",
    "    plt.plot(xx, y[0,:,i],color='red')\n",
    "    plt.show()\n",
    "\n",
    "\n"
   ]
  },
  {
   "cell_type": "code",
   "execution_count": null,
   "metadata": {},
   "outputs": [],
   "source": [
    "prevx = np.cumsum(np.squeeze(t[0,:,0]))\n",
    "prevy = np.cumsum(np.squeeze(t[0,:,1]))\n",
    "\n",
    "trux = prevx[-1] + np.cumsum(np.squeeze(ty[0,:,0]))\n",
    "truy = prevy[-1] + np.cumsum(np.squeeze(ty[0,:,1]))\n",
    "\n",
    "predx = prevx[-1] + np.cumsum(np.squeeze())\n",
    "predy = prevy[-1] + np.cumsum(np.squeeze(y[0,:,1]))\n",
    "\n",
    "\n",
    "plt.plot(prevx,prevy,color='blue')\n",
    "plt.plot(trux,truy,color='green')\n",
    "# plt.plot(predx,predy,color='red')\n",
    "\n",
    "\n",
    "plt.show()"
   ]
  },
  {
   "cell_type": "code",
   "execution_count": null,
   "metadata": {},
   "outputs": [],
   "source": []
  }
 ],
 "metadata": {
  "kernelspec": {
   "display_name": "Python 3",
   "language": "python",
   "name": "python3"
  },
  "language_info": {
   "codemirror_mode": {
    "name": "ipython",
    "version": 3
   },
   "file_extension": ".py",
   "mimetype": "text/x-python",
   "name": "python",
   "nbconvert_exporter": "python",
   "pygments_lexer": "ipython3",
   "version": "3.8.3"
  }
 },
 "nbformat": 4,
 "nbformat_minor": 4
}
